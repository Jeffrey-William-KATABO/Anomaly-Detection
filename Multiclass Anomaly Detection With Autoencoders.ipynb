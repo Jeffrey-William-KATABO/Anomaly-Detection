{
  "nbformat": 4,
  "nbformat_minor": 0,
  "metadata": {
    "colab": {
      "provenance": []
    },
    "kernelspec": {
      "name": "python3",
      "display_name": "Python 3"
    },
    "language_info": {
      "name": "python"
    }
  },
  "cells": [
    {
      "cell_type": "code",
      "source": [
        "from google.colab import drive\n",
        "drive.mount('/content/drive')"
      ],
      "metadata": {
        "colab": {
          "base_uri": "https://localhost:8080/"
        },
        "id": "buCg_u-Lpscg",
        "outputId": "4d8e8b67-d9ed-4326-fd25-2e75b7b832bf"
      },
      "execution_count": null,
      "outputs": [
        {
          "output_type": "stream",
          "name": "stdout",
          "text": [
            "Mounted at /content/drive\n"
          ]
        }
      ]
    },
    {
      "cell_type": "code",
      "execution_count": null,
      "metadata": {
        "id": "E6Zn78KhbVXZ"
      },
      "outputs": [],
      "source": [
        "import tensorflow as tf\n",
        "import numpy as np\n",
        "import pandas as pd\n",
        "from sklearn.metrics import accuracy_score, precision_score, recall_score\n",
        "from sklearn.model_selection import train_test_split\n",
        "from tensorflow.keras.models import Model\n",
        "from tensorflow.keras import layers, losses\n",
        "\n"
      ]
    },
    {
      "cell_type": "markdown",
      "source": [
        "### Attempt of multiclass classification using autoencoders"
      ],
      "metadata": {
        "id": "V5aGEZ8gm_E2"
      }
    },
    {
      "cell_type": "markdown",
      "source": [
        "The general principle is the following: There are several classes in my dataset, and I want to train autoencoder models to classify them. An autoencoder model is trained to reconstruct data from a specific class; at the end of the training, it will be able to do so with a small reconstruction error. However, it should have a larger error when reconstructing data from other classes. Therefore, when presented with a new data sample, the classification is done based on the class for which the reconstruction error is the smallest."
      ],
      "metadata": {
        "id": "VP3mBtQOnIsU"
      }
    },
    {
      "cell_type": "code",
      "source": [],
      "metadata": {
        "id": "fNatJ7QOnGuf"
      },
      "execution_count": null,
      "outputs": []
    },
    {
      "cell_type": "markdown",
      "source": [
        "### Loading the dataset:"
      ],
      "metadata": {
        "id": "yPJz5bGYcpm6"
      }
    },
    {
      "cell_type": "code",
      "source": [
        "df = pd.read_csv(\"drive/MyDrive/Datasets/Final_Features.csv\")\n",
        "df.drop('Unnamed: 0', axis=1, inplace=True)\n",
        "df['Attack_type'].value_counts()"
      ],
      "metadata": {
        "colab": {
          "base_uri": "https://localhost:8080/"
        },
        "id": "krW_V8GZcrZT",
        "outputId": "54ea62de-b873-4857-8bfd-b05aeb45fc02"
      },
      "execution_count": null,
      "outputs": [
        {
          "output_type": "execute_result",
          "data": {
            "text/plain": [
              "7     1363998\n",
              "4      121567\n",
              "2       67939\n",
              "11      50826\n",
              "3       50062\n",
              "13      50026\n",
              "8       49933\n",
              "1       48544\n",
              "12      36807\n",
              "0       24026\n",
              "9       19977\n",
              "14      15066\n",
              "10       9689\n",
              "5         853\n",
              "6         358\n",
              "Name: Attack_type, dtype: int64"
            ]
          },
          "metadata": {},
          "execution_count": 5
        }
      ]
    },
    {
      "cell_type": "markdown",
      "source": [
        "There are 15 classes in this dataset: class 0 represents normal network traffic and the 14 others are classes of attacks"
      ],
      "metadata": {
        "id": "G_lOnAMemivA"
      }
    },
    {
      "cell_type": "code",
      "source": [
        "df.shape"
      ],
      "metadata": {
        "colab": {
          "base_uri": "https://localhost:8080/"
        },
        "id": "hDXCJju0ev06",
        "outputId": "0baca7b2-6477-4aec-ba85-d03425790d8d"
      },
      "execution_count": null,
      "outputs": [
        {
          "output_type": "execute_result",
          "data": {
            "text/plain": [
              "(1909671, 17)"
            ]
          },
          "metadata": {},
          "execution_count": 6
        }
      ]
    },
    {
      "cell_type": "code",
      "source": [
        "df_train, df_test = train_test_split(df, test_size = 0.1)\n",
        "df=df_train\n",
        "df.shape"
      ],
      "metadata": {
        "colab": {
          "base_uri": "https://localhost:8080/"
        },
        "id": "FF4v6ID4cZ3h",
        "outputId": "fa5879da-9b20-4435-f87d-cda09b981179"
      },
      "execution_count": null,
      "outputs": [
        {
          "output_type": "execute_result",
          "data": {
            "text/plain": [
              "(1718703, 17)"
            ]
          },
          "metadata": {},
          "execution_count": 7
        }
      ]
    },
    {
      "cell_type": "code",
      "source": [
        "df['Attack_type'].value_counts()"
      ],
      "metadata": {
        "colab": {
          "base_uri": "https://localhost:8080/"
        },
        "id": "FQRsvq_XgnKw",
        "outputId": "39326aeb-09e2-4fbb-d13b-db590d7c645b"
      },
      "execution_count": null,
      "outputs": [
        {
          "output_type": "execute_result",
          "data": {
            "text/plain": [
              "7     1227512\n",
              "4      109535\n",
              "2       61217\n",
              "11      45744\n",
              "3       45117\n",
              "13      45063\n",
              "8       44943\n",
              "1       43675\n",
              "12      33126\n",
              "0       21546\n",
              "9       17961\n",
              "14      13490\n",
              "10       8709\n",
              "5         759\n",
              "6         306\n",
              "Name: Attack_type, dtype: int64"
            ]
          },
          "metadata": {},
          "execution_count": 8
        }
      ]
    },
    {
      "cell_type": "markdown",
      "source": [
        "In this notebook we try only with classes 0 to 5"
      ],
      "metadata": {
        "id": "3D1Axf40sgle"
      }
    },
    {
      "cell_type": "markdown",
      "source": [
        "### Class balancing using SMOTE"
      ],
      "metadata": {
        "id": "XiWAvtZTscgz"
      }
    },
    {
      "cell_type": "code",
      "source": [
        "from imblearn.over_sampling import SMOTE\n",
        "from collections import Counter\n",
        "X = df.loc[:, df.columns != \"Attack_type\"]\n",
        "y = df[\"Attack_type\"]\n",
        "X_train, X_test, y_train, y_test = train_test_split(X,y, test_size=0.05)\n",
        "smote = SMOTE(sampling_strategy=dict({2:1500}), random_state=10)\n",
        "X2, y2 = smote.fit_resample(X_train, y_train)\n",
        "print(Counter(y2))"
      ],
      "metadata": {
        "colab": {
          "base_uri": "https://localhost:8080/"
        },
        "id": "3zbjELUa_szL",
        "outputId": "e92d2b48-5b1a-4523-e772-36a81fe94ebe"
      },
      "execution_count": null,
      "outputs": [
        {
          "output_type": "stream",
          "name": "stdout",
          "text": [
            "Counter({3: 141541, 1: 111323, 0: 12347, 4: 9353, 5: 7845, 2: 1500})\n"
          ]
        }
      ]
    },
    {
      "cell_type": "markdown",
      "source": [
        "### Data Scaling:"
      ],
      "metadata": {
        "id": "1x9ZqHGUplmM"
      }
    },
    {
      "cell_type": "code",
      "source": [
        "# dropping the target variable: it should not be scaled\n",
        "labels=df['Attack_type']\n",
        "df.drop('Attack_type', axis=1, inplace=True)"
      ],
      "metadata": {
        "id": "I72h05fIWxPy"
      },
      "execution_count": null,
      "outputs": []
    },
    {
      "cell_type": "code",
      "source": [
        "# function to harmonize (scale) the values\n",
        "def harmonize(data):\n",
        "    m = data.values\n",
        "    for i in range(0,len(m)):\n",
        "        row_max = 1.*m[i].max()\n",
        "        for j in range(0,len(m[i])):\n",
        "            m[i][j]=1.*m[i][j]\n",
        "            if row_max>0:\n",
        "                m[i][j]=((m[i][j])/row_max)\n",
        "    return pd.DataFrame(m)"
      ],
      "metadata": {
        "id": "ZkXiNm1OpnMO"
      },
      "execution_count": null,
      "outputs": []
    },
    {
      "cell_type": "code",
      "source": [
        "df=harmonize(df)\n",
        "df=df.join(labels)\n",
        "df.shape"
      ],
      "metadata": {
        "colab": {
          "base_uri": "https://localhost:8080/"
        },
        "id": "c-wn6pY7qCwT",
        "outputId": "f3a6ec69-a875-4d51-8391-80a9e7a98460"
      },
      "execution_count": null,
      "outputs": [
        {
          "output_type": "execute_result",
          "data": {
            "text/plain": [
              "(1718703, 17)"
            ]
          },
          "metadata": {},
          "execution_count": 11
        }
      ]
    },
    {
      "cell_type": "markdown",
      "source": [
        "### Splitting data for each class:"
      ],
      "metadata": {
        "id": "e7FZadIKiFEW"
      }
    },
    {
      "cell_type": "code",
      "source": [
        "X2=X2.join(y2) #y2 is the target column after oversampling\n",
        "X2=X2[X2['Attack_type']==2] # Isolating the data point with label 2\n",
        "X_test=X_test.join(y_test)\n",
        "X_test=X_test[X_test['Attack_type']==2]\n",
        "print(X2.shape)\n",
        "print(X_test.shape)\n",
        "X2.head()"
      ],
      "metadata": {
        "colab": {
          "base_uri": "https://localhost:8080/",
          "height": 322
        },
        "id": "5B2x-oO4ETRi",
        "outputId": "1aee2d52-aea4-4cd4-f625-80b1220f03ba"
      },
      "execution_count": null,
      "outputs": [
        {
          "output_type": "stream",
          "name": "stdout",
          "text": [
            "(1500, 10)\n",
            "(25, 10)\n"
          ]
        },
        {
          "output_type": "execute_result",
          "data": {
            "text/plain": [
              "      tcp.flags  tcp.time_delta  tcp.len  mqtt.kalive  mqtt.len  mqtt.msgid  \\\n",
              "129          16        0.000004        0          0.0       0.0         0.0   \n",
              "652          24        0.000032    32760          0.0      16.0         0.0   \n",
              "734          16        0.000005        0          0.0       0.0         0.0   \n",
              "1297         24        0.000044    32760          0.0      16.0         0.0   \n",
              "2085         16        0.000016        0          0.0       0.0         0.0   \n",
              "\n",
              "      mqtt.msgtype  mqtt.qos  mqtt.protoname-0  target  \n",
              "129            0.0       0.0                 1       2  \n",
              "652            3.0       0.0                 1       2  \n",
              "734            0.0       0.0                 1       2  \n",
              "1297           3.0       0.0                 1       2  \n",
              "2085           0.0       0.0                 1       2  "
            ],
            "text/html": [
              "\n",
              "  <div id=\"df-10c7d234-c5c0-46fe-929f-ee4581588192\">\n",
              "    <div class=\"colab-df-container\">\n",
              "      <div>\n",
              "<style scoped>\n",
              "    .dataframe tbody tr th:only-of-type {\n",
              "        vertical-align: middle;\n",
              "    }\n",
              "\n",
              "    .dataframe tbody tr th {\n",
              "        vertical-align: top;\n",
              "    }\n",
              "\n",
              "    .dataframe thead th {\n",
              "        text-align: right;\n",
              "    }\n",
              "</style>\n",
              "<table border=\"1\" class=\"dataframe\">\n",
              "  <thead>\n",
              "    <tr style=\"text-align: right;\">\n",
              "      <th></th>\n",
              "      <th>tcp.flags</th>\n",
              "      <th>tcp.time_delta</th>\n",
              "      <th>tcp.len</th>\n",
              "      <th>mqtt.kalive</th>\n",
              "      <th>mqtt.len</th>\n",
              "      <th>mqtt.msgid</th>\n",
              "      <th>mqtt.msgtype</th>\n",
              "      <th>mqtt.qos</th>\n",
              "      <th>mqtt.protoname-0</th>\n",
              "      <th>target</th>\n",
              "    </tr>\n",
              "  </thead>\n",
              "  <tbody>\n",
              "    <tr>\n",
              "      <th>129</th>\n",
              "      <td>16</td>\n",
              "      <td>0.000004</td>\n",
              "      <td>0</td>\n",
              "      <td>0.0</td>\n",
              "      <td>0.0</td>\n",
              "      <td>0.0</td>\n",
              "      <td>0.0</td>\n",
              "      <td>0.0</td>\n",
              "      <td>1</td>\n",
              "      <td>2</td>\n",
              "    </tr>\n",
              "    <tr>\n",
              "      <th>652</th>\n",
              "      <td>24</td>\n",
              "      <td>0.000032</td>\n",
              "      <td>32760</td>\n",
              "      <td>0.0</td>\n",
              "      <td>16.0</td>\n",
              "      <td>0.0</td>\n",
              "      <td>3.0</td>\n",
              "      <td>0.0</td>\n",
              "      <td>1</td>\n",
              "      <td>2</td>\n",
              "    </tr>\n",
              "    <tr>\n",
              "      <th>734</th>\n",
              "      <td>16</td>\n",
              "      <td>0.000005</td>\n",
              "      <td>0</td>\n",
              "      <td>0.0</td>\n",
              "      <td>0.0</td>\n",
              "      <td>0.0</td>\n",
              "      <td>0.0</td>\n",
              "      <td>0.0</td>\n",
              "      <td>1</td>\n",
              "      <td>2</td>\n",
              "    </tr>\n",
              "    <tr>\n",
              "      <th>1297</th>\n",
              "      <td>24</td>\n",
              "      <td>0.000044</td>\n",
              "      <td>32760</td>\n",
              "      <td>0.0</td>\n",
              "      <td>16.0</td>\n",
              "      <td>0.0</td>\n",
              "      <td>3.0</td>\n",
              "      <td>0.0</td>\n",
              "      <td>1</td>\n",
              "      <td>2</td>\n",
              "    </tr>\n",
              "    <tr>\n",
              "      <th>2085</th>\n",
              "      <td>16</td>\n",
              "      <td>0.000016</td>\n",
              "      <td>0</td>\n",
              "      <td>0.0</td>\n",
              "      <td>0.0</td>\n",
              "      <td>0.0</td>\n",
              "      <td>0.0</td>\n",
              "      <td>0.0</td>\n",
              "      <td>1</td>\n",
              "      <td>2</td>\n",
              "    </tr>\n",
              "  </tbody>\n",
              "</table>\n",
              "</div>\n",
              "      <button class=\"colab-df-convert\" onclick=\"convertToInteractive('df-10c7d234-c5c0-46fe-929f-ee4581588192')\"\n",
              "              title=\"Convert this dataframe to an interactive table.\"\n",
              "              style=\"display:none;\">\n",
              "        \n",
              "  <svg xmlns=\"http://www.w3.org/2000/svg\" height=\"24px\"viewBox=\"0 0 24 24\"\n",
              "       width=\"24px\">\n",
              "    <path d=\"M0 0h24v24H0V0z\" fill=\"none\"/>\n",
              "    <path d=\"M18.56 5.44l.94 2.06.94-2.06 2.06-.94-2.06-.94-.94-2.06-.94 2.06-2.06.94zm-11 1L8.5 8.5l.94-2.06 2.06-.94-2.06-.94L8.5 2.5l-.94 2.06-2.06.94zm10 10l.94 2.06.94-2.06 2.06-.94-2.06-.94-.94-2.06-.94 2.06-2.06.94z\"/><path d=\"M17.41 7.96l-1.37-1.37c-.4-.4-.92-.59-1.43-.59-.52 0-1.04.2-1.43.59L10.3 9.45l-7.72 7.72c-.78.78-.78 2.05 0 2.83L4 21.41c.39.39.9.59 1.41.59.51 0 1.02-.2 1.41-.59l7.78-7.78 2.81-2.81c.8-.78.8-2.07 0-2.86zM5.41 20L4 18.59l7.72-7.72 1.47 1.35L5.41 20z\"/>\n",
              "  </svg>\n",
              "      </button>\n",
              "      \n",
              "  <style>\n",
              "    .colab-df-container {\n",
              "      display:flex;\n",
              "      flex-wrap:wrap;\n",
              "      gap: 12px;\n",
              "    }\n",
              "\n",
              "    .colab-df-convert {\n",
              "      background-color: #E8F0FE;\n",
              "      border: none;\n",
              "      border-radius: 50%;\n",
              "      cursor: pointer;\n",
              "      display: none;\n",
              "      fill: #1967D2;\n",
              "      height: 32px;\n",
              "      padding: 0 0 0 0;\n",
              "      width: 32px;\n",
              "    }\n",
              "\n",
              "    .colab-df-convert:hover {\n",
              "      background-color: #E2EBFA;\n",
              "      box-shadow: 0px 1px 2px rgba(60, 64, 67, 0.3), 0px 1px 3px 1px rgba(60, 64, 67, 0.15);\n",
              "      fill: #174EA6;\n",
              "    }\n",
              "\n",
              "    [theme=dark] .colab-df-convert {\n",
              "      background-color: #3B4455;\n",
              "      fill: #D2E3FC;\n",
              "    }\n",
              "\n",
              "    [theme=dark] .colab-df-convert:hover {\n",
              "      background-color: #434B5C;\n",
              "      box-shadow: 0px 1px 3px 1px rgba(0, 0, 0, 0.15);\n",
              "      filter: drop-shadow(0px 1px 2px rgba(0, 0, 0, 0.3));\n",
              "      fill: #FFFFFF;\n",
              "    }\n",
              "  </style>\n",
              "\n",
              "      <script>\n",
              "        const buttonEl =\n",
              "          document.querySelector('#df-10c7d234-c5c0-46fe-929f-ee4581588192 button.colab-df-convert');\n",
              "        buttonEl.style.display =\n",
              "          google.colab.kernel.accessAllowed ? 'block' : 'none';\n",
              "\n",
              "        async function convertToInteractive(key) {\n",
              "          const element = document.querySelector('#df-10c7d234-c5c0-46fe-929f-ee4581588192');\n",
              "          const dataTable =\n",
              "            await google.colab.kernel.invokeFunction('convertToInteractive',\n",
              "                                                     [key], {});\n",
              "          if (!dataTable) return;\n",
              "\n",
              "          const docLinkHtml = 'Like what you see? Visit the ' +\n",
              "            '<a target=\"_blank\" href=https://colab.research.google.com/notebooks/data_table.ipynb>data table notebook</a>'\n",
              "            + ' to learn more about interactive tables.';\n",
              "          element.innerHTML = '';\n",
              "          dataTable['output_type'] = 'display_data';\n",
              "          await google.colab.output.renderOutput(dataTable, element);\n",
              "          const docLink = document.createElement('div');\n",
              "          docLink.innerHTML = docLinkHtml;\n",
              "          element.appendChild(docLink);\n",
              "        }\n",
              "      </script>\n",
              "    </div>\n",
              "  </div>\n",
              "  "
            ]
          },
          "metadata": {},
          "execution_count": 45
        }
      ]
    },
    {
      "cell_type": "code",
      "source": [
        "df0 = df[df['Attack_type']==0] # isolating class 0\n",
        "df0.shape"
      ],
      "metadata": {
        "colab": {
          "base_uri": "https://localhost:8080/"
        },
        "id": "arfEV9uJiLxr",
        "outputId": "0da6a385-067e-46d6-bb72-eff6964706cd"
      },
      "execution_count": null,
      "outputs": [
        {
          "output_type": "execute_result",
          "data": {
            "text/plain": [
              "(19379, 17)"
            ]
          },
          "metadata": {},
          "execution_count": 12
        }
      ]
    },
    {
      "cell_type": "code",
      "source": [
        "df1 = df[df['Attack_type']==1] # isolating class 1\n",
        "df1.shape"
      ],
      "metadata": {
        "colab": {
          "base_uri": "https://localhost:8080/"
        },
        "id": "0GSpGVGUibWe",
        "outputId": "3e0e3e93-b3ca-4161-cf9c-96b57dd2e956"
      },
      "execution_count": null,
      "outputs": [
        {
          "output_type": "execute_result",
          "data": {
            "text/plain": [
              "(39297, 17)"
            ]
          },
          "metadata": {},
          "execution_count": 13
        }
      ]
    },
    {
      "cell_type": "code",
      "source": [
        "df2 = df[df['Attack_type']==2]\n",
        "df2.shape"
      ],
      "metadata": {
        "colab": {
          "base_uri": "https://localhost:8080/"
        },
        "id": "F3fgNKacib0b",
        "outputId": "521113a9-689f-4e1a-f086-60dd65122116"
      },
      "execution_count": null,
      "outputs": [
        {
          "output_type": "execute_result",
          "data": {
            "text/plain": [
              "(55110, 17)"
            ]
          },
          "metadata": {},
          "execution_count": 14
        }
      ]
    },
    {
      "cell_type": "code",
      "source": [
        "df3 = df[df['Attack_type']==3]\n",
        "df3.shape"
      ],
      "metadata": {
        "colab": {
          "base_uri": "https://localhost:8080/"
        },
        "id": "gUVJJRdjib73",
        "outputId": "bcda0b30-4b6e-4ec6-d9f7-9fcbc23923b6"
      },
      "execution_count": null,
      "outputs": [
        {
          "output_type": "execute_result",
          "data": {
            "text/plain": [
              "(40621, 17)"
            ]
          },
          "metadata": {},
          "execution_count": 15
        }
      ]
    },
    {
      "cell_type": "code",
      "source": [
        "df4 = df[df['Attack_type']==4]\n",
        "df4.shape"
      ],
      "metadata": {
        "colab": {
          "base_uri": "https://localhost:8080/"
        },
        "id": "Xw92vADficDW",
        "outputId": "82b8e070-eaf8-4545-e356-d894b224a162"
      },
      "execution_count": null,
      "outputs": [
        {
          "output_type": "execute_result",
          "data": {
            "text/plain": [
              "(98581, 17)"
            ]
          },
          "metadata": {},
          "execution_count": 16
        }
      ]
    },
    {
      "cell_type": "code",
      "source": [
        "df5 = df[df['Attack_type']==5]\n",
        "df5.shape"
      ],
      "metadata": {
        "colab": {
          "base_uri": "https://localhost:8080/"
        },
        "id": "G6Owb7SbicKU",
        "outputId": "a82d8993-604b-4a1b-da54-54e32eb51f5b"
      },
      "execution_count": null,
      "outputs": [
        {
          "output_type": "execute_result",
          "data": {
            "text/plain": [
              "(684, 17)"
            ]
          },
          "metadata": {},
          "execution_count": 17
        }
      ]
    },
    {
      "cell_type": "markdown",
      "source": [
        "### Constructing the training and test sets for the encoders:"
      ],
      "metadata": {
        "id": "ZirVvjhkgmTU"
      }
    },
    {
      "cell_type": "code",
      "source": [
        "X0 = df0.loc[:, df.columns != \"Attack_type\"] # Isolating the input variables (X)\n",
        "y0 = df0[\"Attack_type\"] # Isolating the target variable (y)\n",
        "X_train0, X_test0, y_train0, y_test0 = train_test_split(X0,y0, test_size=0.05)\n",
        "print('Shape of X_train0:', X_train0.shape)\n",
        "print('Shape of X_test0:', X_test0.shape)"
      ],
      "metadata": {
        "colab": {
          "base_uri": "https://localhost:8080/"
        },
        "id": "5vNVMdzhkknP",
        "outputId": "9a47d67b-a259-4391-ada4-88e115cf92ec"
      },
      "execution_count": null,
      "outputs": [
        {
          "output_type": "stream",
          "name": "stdout",
          "text": [
            "Shape of X_train0: (18410, 16)\n",
            "Shape of X_test0: (969, 16)\n"
          ]
        }
      ]
    },
    {
      "cell_type": "code",
      "source": [
        "X1 = df1.loc[:, df.columns != \"Attack_type\"]\n",
        "y1 = df1[\"Attack_type\"]\n",
        "X_train1, X_test1, y_train1, y_test1 = train_test_split(X1,y1, test_size=0.05)\n",
        "print('Shape of X_train1:', X_train1.shape)\n",
        "print('Shape of X_test1:', X_test1.shape)"
      ],
      "metadata": {
        "colab": {
          "base_uri": "https://localhost:8080/"
        },
        "id": "OO-LW0xMk6oo",
        "outputId": "b098967d-d676-4518-ec05-47f1e22a7416"
      },
      "execution_count": null,
      "outputs": [
        {
          "output_type": "stream",
          "name": "stdout",
          "text": [
            "Shape of X_train1: (37332, 16)\n",
            "Shape of X_test1: (1965, 16)\n"
          ]
        }
      ]
    },
    {
      "cell_type": "code",
      "source": [
        "X2 = df2.loc[:, df.columns != \"Attack_type\"]\n",
        "y2 = df2[\"Attack_type\"]\n",
        "X_train2, X_test2, y_train2, y_test2 = train_test_split(X2,y2, test_size=0.05)\n",
        "print('Shape of X_train2:', X_train2.shape)\n",
        "print('Shape of X_test2:', X_test2.shape)"
      ],
      "metadata": {
        "colab": {
          "base_uri": "https://localhost:8080/"
        },
        "id": "sFu0xBxVk6xi",
        "outputId": "26ff6763-7732-459c-840a-869821d3164a"
      },
      "execution_count": null,
      "outputs": [
        {
          "output_type": "stream",
          "name": "stdout",
          "text": [
            "Shape of X_train2: (52354, 16)\n",
            "Shape of X_test2: (2756, 16)\n"
          ]
        }
      ]
    },
    {
      "cell_type": "code",
      "source": [
        "X3 = df3.loc[:, df.columns != \"Attack_type\"]\n",
        "y3 = df3[\"Attack_type\"]\n",
        "X_train3, X_test3, y_train3, y_test3 = train_test_split(X3,y3, test_size=0.05)\n",
        "print('Shape of X_train3:', X_train3.shape)\n",
        "print('Shape of X_test3:', X_test3.shape)"
      ],
      "metadata": {
        "colab": {
          "base_uri": "https://localhost:8080/"
        },
        "id": "cLNGT-I4k65Z",
        "outputId": "b7e247fb-7e50-4669-efc2-c86717812d71"
      },
      "execution_count": null,
      "outputs": [
        {
          "output_type": "stream",
          "name": "stdout",
          "text": [
            "Shape of X_train3: (38589, 16)\n",
            "Shape of X_test3: (2032, 16)\n"
          ]
        }
      ]
    },
    {
      "cell_type": "code",
      "source": [
        "X4 = df4.loc[:, df.columns != \"Attack_type\"]\n",
        "y4 = df4[\"Attack_type\"]\n",
        "X_train4, X_test4, y_train4, y_test4 = train_test_split(X4,y4, test_size=0.05)\n",
        "print('Shape of X_train4:', X_train4.shape)\n",
        "print('Shape of X_test4:', X_test4.shape)"
      ],
      "metadata": {
        "colab": {
          "base_uri": "https://localhost:8080/"
        },
        "id": "QbqDl0t-k7BJ",
        "outputId": "a98e78e0-49a5-468e-abf4-5f09ff04e2aa"
      },
      "execution_count": null,
      "outputs": [
        {
          "output_type": "stream",
          "name": "stdout",
          "text": [
            "Shape of X_train4: (93651, 16)\n",
            "Shape of X_test4: (4930, 16)\n"
          ]
        }
      ]
    },
    {
      "cell_type": "code",
      "source": [
        "X5 = df5.loc[:, df.columns != \"Attack_type\"]\n",
        "y5 = df5[\"Attack_type\"]\n",
        "X_train5, X_test5, y_train5, y_test5 = train_test_split(X5,y5, test_size=0.05)\n",
        "print('Shape of X_train5:', X_train5.shape)\n",
        "print('Shape of X_test5:', X_test5.shape)"
      ],
      "metadata": {
        "colab": {
          "base_uri": "https://localhost:8080/"
        },
        "id": "_EeglSzwk7IW",
        "outputId": "c22429e4-7273-4c27-fbfc-1abe248e35f4"
      },
      "execution_count": null,
      "outputs": [
        {
          "output_type": "stream",
          "name": "stdout",
          "text": [
            "Shape of X_train5: (649, 16)\n",
            "Shape of X_test5: (35, 16)\n"
          ]
        }
      ]
    },
    {
      "cell_type": "markdown",
      "source": [
        "### Constructing the autoencoders:"
      ],
      "metadata": {
        "id": "WHZv0ZufJq43"
      }
    },
    {
      "cell_type": "code",
      "source": [
        "from keras.layers import Input, Dense\n",
        "\n",
        "### The following code section builds an autoencoder networks of 14 layers, each\n",
        "### layer having respectively 17, 15, 13, 11, 9, 7, 5, 7, 9, 11, 13, 15 and 17 layers\n",
        "\n",
        "input_dim = X0.shape[1] # Input dimension equal to the number of input variables/predictors: 17\n",
        "input_layer = Input(shape=(input_dim, ))\n",
        "nodes_number = 15\n",
        "while (nodes_number>=15):\n",
        "    if nodes_number == 15:\n",
        "        layer = Dense(nodes_number, activation='tanh')(input_layer)\n",
        "    else:\n",
        "        layer = Dense(nodes_number, activation='tanh')(layer)\n",
        "    nodes_number=nodes_number-2\n",
        "nodes_number=5\n",
        "while(nodes_number<=15):\n",
        "    layer = Dense(nodes_number, activation='tanh')(layer)\n",
        "    nodes_number=nodes_number+2\n",
        "output_layer = Dense(input_dim, activation='tanh')(layer)"
      ],
      "metadata": {
        "id": "7jUlP9-4oq4s"
      },
      "execution_count": null,
      "outputs": []
    },
    {
      "cell_type": "code",
      "source": [
        "# Building an autoencoder model for each class: each model will specialize in reconstructing\n",
        "# a specific class of data\n",
        "autoencoder0 = Model(inputs=input_layer, outputs=output_layer)\n",
        "autoencoder1 = Model(inputs=input_layer, outputs=output_layer)\n",
        "autoencoder2 = Model(inputs=input_layer, outputs=output_layer)\n",
        "autoencoder3 = Model(inputs=input_layer, outputs=output_layer)\n",
        "autoencoder4 = Model(inputs=input_layer, outputs=output_layer)\n",
        "autoencoder5 = Model(inputs=input_layer, outputs=output_layer)"
      ],
      "metadata": {
        "id": "Yt4dlRZsu7-t"
      },
      "execution_count": null,
      "outputs": []
    },
    {
      "cell_type": "code",
      "source": [
        "class myCallback(tf.keras.callbacks.Callback):\n",
        "  def on_epoch_end(self, epoch, logs={}):\n",
        "    if(logs.get('val_accuracy') >= 0.99):\n",
        "      print(\"\\Accuracy is higher than 0.99 so cancelling training!\")\n",
        "      self.model.stop_training = True\n",
        "\n",
        "# Defining callbacks to control the training: when the model reaches a desired level\n",
        "# of performance (when the reconstruction loss drops under a defined threshold), the training stops\n",
        "class myCallback2(tf.keras.callbacks.Callback):\n",
        "  def on_epoch_end(self, epoch, logs={}):\n",
        "    if(logs.get('val_loss') <= 1.5):\n",
        "      print(\"\\Loss is lower than 1.5 so cancelling training!\")\n",
        "      self.model.stop_training = True\n",
        "cb = myCallback()\n",
        "cb2=myCallback2()"
      ],
      "metadata": {
        "id": "Rg7O52ucsdBc"
      },
      "execution_count": null,
      "outputs": []
    },
    {
      "cell_type": "markdown",
      "source": [
        "### Training and testing the autoencoder models:"
      ],
      "metadata": {
        "id": "FOpyx-JYJzaD"
      }
    },
    {
      "cell_type": "code",
      "source": [
        "autoencoder0.compile(optimizer='adam', loss=losses.MeanSquaredError(), metrics=['accuracy'])\n",
        "history0=autoencoder0.fit(X_train0, X_train0,\n",
        "                epochs=10,\n",
        "                callbacks=[cb2],\n",
        "                shuffle=True,\n",
        "                validation_data=(X_test0, X_test0))"
      ],
      "metadata": {
        "colab": {
          "base_uri": "https://localhost:8080/"
        },
        "id": "kccFPXynhF8E",
        "outputId": "169da43f-ec06-4f9f-d68b-de6868291a9b"
      },
      "execution_count": null,
      "outputs": [
        {
          "output_type": "stream",
          "name": "stdout",
          "text": [
            "Epoch 1/10\n",
            "570/576 [============================>.] - ETA: 0s - loss: 0.0063 - accuracy: 0.9384\\Loss is lower than 1.5 so cancelling training!\n",
            "576/576 [==============================] - 4s 4ms/step - loss: 0.0063 - accuracy: 0.9388 - val_loss: 0.0010 - val_accuracy: 0.9711\n"
          ]
        }
      ]
    },
    {
      "cell_type": "code",
      "source": [
        "autoencoder1.compile(optimizer='adam', loss=losses.MeanSquaredError(), metrics=['accuracy'])\n",
        "history1=autoencoder1.fit(X_train1, X_train1,\n",
        "                epochs=10,\n",
        "                callbacks=[cb2],\n",
        "                shuffle=True,\n",
        "                validation_data=(X_test1, X_test1))"
      ],
      "metadata": {
        "colab": {
          "base_uri": "https://localhost:8080/"
        },
        "id": "7__0CeAArkGZ",
        "outputId": "403639d7-a1d9-4425-b9c7-483da5a147b5"
      },
      "execution_count": null,
      "outputs": [
        {
          "output_type": "stream",
          "name": "stdout",
          "text": [
            "Epoch 1/10\n",
            "1156/1167 [============================>.] - ETA: 0s - loss: 5.0127e-04 - accuracy: 0.9690\\Loss is lower than 1.5 so cancelling training!\n",
            "1167/1167 [==============================] - 5s 4ms/step - loss: 4.9768e-04 - accuracy: 0.9691 - val_loss: 9.3180e-05 - val_accuracy: 0.9827\n"
          ]
        }
      ]
    },
    {
      "cell_type": "code",
      "source": [
        "autoencoder2.compile(optimizer='adam', loss=losses.MeanSquaredError(), metrics=['accuracy'])\n",
        "history2=autoencoder2.fit(X_train2, X_train2,\n",
        "                epochs=10,\n",
        "                callbacks=[cb2],\n",
        "                shuffle=True,\n",
        "                validation_data=(X_test2, X_test2))"
      ],
      "metadata": {
        "colab": {
          "base_uri": "https://localhost:8080/"
        },
        "id": "WrN6F4y9v5As",
        "outputId": "1131cb81-c109-4859-80e9-0dc00c0e46e5"
      },
      "execution_count": null,
      "outputs": [
        {
          "output_type": "stream",
          "name": "stdout",
          "text": [
            "Epoch 1/10\n",
            "1636/1637 [============================>.] - ETA: 0s - loss: 9.7078e-05 - accuracy: 0.9785\\Loss is lower than 1.5 so cancelling training!\n",
            "1637/1637 [==============================] - 6s 3ms/step - loss: 9.7075e-05 - accuracy: 0.9785 - val_loss: 6.3383e-05 - val_accuracy: 0.9811\n"
          ]
        }
      ]
    },
    {
      "cell_type": "code",
      "source": [
        "autoencoder3.compile(optimizer='adam', loss=losses.MeanSquaredError(), metrics=['accuracy'])\n",
        "history3=autoencoder3.fit(X_train3, X_train3,\n",
        "                epochs=10,\n",
        "                callbacks=[cb2],\n",
        "                shuffle=True,\n",
        "                validation_data=(X_test3, X_test3))"
      ],
      "metadata": {
        "colab": {
          "base_uri": "https://localhost:8080/"
        },
        "id": "spMdevCawOrk",
        "outputId": "ad3c7473-527a-4d1a-feed-824bde3d03ea"
      },
      "execution_count": null,
      "outputs": [
        {
          "output_type": "stream",
          "name": "stdout",
          "text": [
            "Epoch 1/10\n",
            "1205/1206 [============================>.] - ETA: 0s - loss: 8.0208e-05 - accuracy: 0.9769\\Loss is lower than 1.5 so cancelling training!\n",
            "1206/1206 [==============================] - 5s 3ms/step - loss: 8.0180e-05 - accuracy: 0.9769 - val_loss: 3.2753e-05 - val_accuracy: 0.9769\n"
          ]
        }
      ]
    },
    {
      "cell_type": "code",
      "source": [
        "autoencoder4.compile(optimizer='adam', loss=losses.MeanSquaredError(), metrics=['accuracy'])\n",
        "history4=autoencoder4.fit(X_train4, X_train4,\n",
        "                epochs=10,\n",
        "                callbacks=[cb2],\n",
        "                shuffle=True,\n",
        "                validation_data=(X_test4, X_test4))"
      ],
      "metadata": {
        "colab": {
          "base_uri": "https://localhost:8080/"
        },
        "id": "mK54b9YYwuES",
        "outputId": "30d30687-16a2-47e9-c082-d6ae6fcb29b6"
      },
      "execution_count": null,
      "outputs": [
        {
          "output_type": "stream",
          "name": "stdout",
          "text": [
            "Epoch 1/10\n",
            "2926/2927 [============================>.] - ETA: 0s - loss: 6.3907e-05 - accuracy: 0.9788\\Loss is lower than 1.5 so cancelling training!\n",
            "2927/2927 [==============================] - 11s 3ms/step - loss: 6.3899e-05 - accuracy: 0.9788 - val_loss: 3.5984e-05 - val_accuracy: 0.9807\n"
          ]
        }
      ]
    },
    {
      "cell_type": "code",
      "source": [
        "autoencoder5.compile(optimizer='adam', loss=losses.MeanSquaredError(), metrics=['accuracy'])\n",
        "history5=autoencoder5.fit(X_train5, X_train5,\n",
        "                epochs=10,\n",
        "                callbacks=[cb],\n",
        "                shuffle=True,\n",
        "                validation_data=(X_test5, X_test5))"
      ],
      "metadata": {
        "colab": {
          "base_uri": "https://localhost:8080/"
        },
        "id": "thU14pHCw7AS",
        "outputId": "2d6e1960-50e1-440e-f7b9-3074f8ba0c42"
      },
      "execution_count": null,
      "outputs": [
        {
          "output_type": "stream",
          "name": "stdout",
          "text": [
            "Epoch 1/10\n",
            "21/21 [==============================] - 1s 14ms/step - loss: 1.7681e-04 - accuracy: 0.9815 - val_loss: 8.2402e-05 - val_accuracy: 0.9714\n",
            "Epoch 2/10\n",
            "21/21 [==============================] - 0s 4ms/step - loss: 3.9257e-05 - accuracy: 0.9815 - val_loss: 2.7608e-05 - val_accuracy: 0.9714\n",
            "Epoch 3/10\n",
            "21/21 [==============================] - 0s 4ms/step - loss: 2.1565e-05 - accuracy: 0.9815 - val_loss: 1.9587e-05 - val_accuracy: 0.9714\n",
            "Epoch 4/10\n",
            "21/21 [==============================] - 0s 4ms/step - loss: 1.8555e-05 - accuracy: 0.9815 - val_loss: 2.0702e-05 - val_accuracy: 0.9714\n",
            "Epoch 5/10\n",
            "21/21 [==============================] - 0s 5ms/step - loss: 1.8763e-05 - accuracy: 0.9815 - val_loss: 2.0511e-05 - val_accuracy: 0.9714\n",
            "Epoch 6/10\n",
            "21/21 [==============================] - 0s 4ms/step - loss: 1.8673e-05 - accuracy: 0.9815 - val_loss: 2.2197e-05 - val_accuracy: 0.9714\n",
            "Epoch 7/10\n",
            "21/21 [==============================] - 0s 5ms/step - loss: 1.9500e-05 - accuracy: 0.9815 - val_loss: 1.8516e-05 - val_accuracy: 0.9714\n",
            "Epoch 8/10\n",
            "21/21 [==============================] - 0s 5ms/step - loss: 1.8822e-05 - accuracy: 0.9815 - val_loss: 2.3830e-05 - val_accuracy: 0.9714\n",
            "Epoch 9/10\n",
            "21/21 [==============================] - 0s 4ms/step - loss: 2.0432e-05 - accuracy: 0.9815 - val_loss: 2.2674e-05 - val_accuracy: 0.9714\n",
            "Epoch 10/10\n",
            "21/21 [==============================] - 0s 4ms/step - loss: 2.0841e-05 - accuracy: 0.9815 - val_loss: 2.0288e-05 - val_accuracy: 0.9714\n"
          ]
        }
      ]
    },
    {
      "cell_type": "markdown",
      "source": [
        "### Classification"
      ],
      "metadata": {
        "id": "gbWvDJmf0gqO"
      }
    },
    {
      "cell_type": "markdown",
      "source": [
        "As said previously, when a data point X is received, all the 6 autoencoders try to reconstruct it. We operate under the assumption that the model that performs with the lowest reconstruction error should have been trained on the class to which the data point belongs. This is how we classify X."
      ],
      "metadata": {
        "id": "IW9GJNo1v35X"
      }
    },
    {
      "cell_type": "code",
      "source": [
        "def classify(X):\n",
        "  loss0=autoencoder0.evaluate(autoencoder0.predict([X]), X)[0]\n",
        "  loss1=autoencoder1.evaluate(autoencoder1.predict([X]), X)[0]\n",
        "  loss2=autoencoder2.evaluate(autoencoder2.predict([X]), X)[0]\n",
        "  loss3=autoencoder3.evaluate(autoencoder3.predict([X]), X)[0]\n",
        "  loss4=autoencoder4.evaluate(autoencoder4.predict([X]), X)[0]\n",
        "  loss5=autoencoder5.evaluate(autoencoder5.predict([X]), X)[0]\n",
        "  losses=[loss0,loss1,loss2,loss3,loss4,loss5]\n",
        "  return pd.Series(losses).idxmin()\n",
        "  #return losses"
      ],
      "metadata": {
        "id": "e1Wu8_QT1QOG"
      },
      "execution_count": null,
      "outputs": []
    },
    {
      "cell_type": "code",
      "source": [
        "#def classify(X):\n",
        "  #loss0=np.mean(np.power(X-autoencoder0.predict([X]), 2), axis=1)\n",
        "  #print(\"numeric: \",pd.to_numeric(loss0))\n",
        "  #loss1=np.mean(np.power(X-autoencoder1.predict([X]), 2), axis=1)\n",
        "  #print(loss1)\n",
        "  #loss2=np.mean(np.power(X-autoencoder2.predict([X]), 2), axis=1)\n",
        "  #print(loss2)\n",
        "  #loss3=np.mean(np.power(X-autoencoder3.predict([X]), 2), axis=1)\n",
        "  #print(loss3)\n",
        "  #loss4=np.mean(np.power(X-autoencoder4.predict([X]), 2), axis=1)\n",
        "  #print(loss4)\n",
        "  #loss5=np.mean(np.power(X-autoencoder5.predict([X]), 2), axis=1)\n",
        "  #print(loss5)\n",
        "  #losses=[loss0,loss1,loss2,loss3,loss4,loss5]\n",
        "  #return pd.Series(losses).idxmin()\n",
        "  #return losses"
      ],
      "metadata": {
        "id": "ELjmW-MWce1Y"
      },
      "execution_count": null,
      "outputs": []
    },
    {
      "cell_type": "code",
      "source": [
        "df1=df_test\n",
        "df2=df1\n",
        "l1=df1['Attack_type']\n",
        "df1.drop('Attack_type', axis=1, inplace=True)\n",
        "df1=harmonize(df1)"
      ],
      "metadata": {
        "id": "KDQolzTROtkU"
      },
      "execution_count": null,
      "outputs": []
    },
    {
      "cell_type": "code",
      "source": [
        "v1=df1[:1]\n",
        "c=classify(v1)\n",
        "#v1.head()"
      ],
      "metadata": {
        "colab": {
          "base_uri": "https://localhost:8080/"
        },
        "id": "dWLJBr0iPL37",
        "outputId": "01b8025b-1975-4d5b-c67b-a55f33c2db34"
      },
      "execution_count": null,
      "outputs": [
        {
          "output_type": "stream",
          "name": "stdout",
          "text": [
            "1/1 [==============================] - 0s 98ms/step\n",
            "1/1 [==============================] - 0s 120ms/step - loss: 8.4318e-07 - accuracy: 1.0000\n",
            "1/1 [==============================] - 0s 77ms/step\n",
            "1/1 [==============================] - 0s 127ms/step - loss: 8.4318e-07 - accuracy: 1.0000\n",
            "1/1 [==============================] - 0s 71ms/step\n",
            "1/1 [==============================] - 0s 129ms/step - loss: 8.4318e-07 - accuracy: 1.0000\n",
            "1/1 [==============================] - 0s 70ms/step\n"
          ]
        },
        {
          "output_type": "stream",
          "name": "stderr",
          "text": [
            "WARNING:tensorflow:5 out of the last 24 calls to <function Model.make_test_function.<locals>.test_function at 0x7fad5c7a67a0> triggered tf.function retracing. Tracing is expensive and the excessive number of tracings could be due to (1) creating @tf.function repeatedly in a loop, (2) passing tensors with different shapes, (3) passing Python objects instead of tensors. For (1), please define your @tf.function outside of the loop. For (2), @tf.function has reduce_retracing=True option that can avoid unnecessary retracing. For (3), please refer to https://www.tensorflow.org/guide/function#controlling_retracing and https://www.tensorflow.org/api_docs/python/tf/function for  more details.\n"
          ]
        },
        {
          "output_type": "stream",
          "name": "stdout",
          "text": [
            "1/1 [==============================] - 0s 126ms/step - loss: 8.4318e-07 - accuracy: 1.0000\n"
          ]
        },
        {
          "output_type": "stream",
          "name": "stderr",
          "text": [
            "WARNING:tensorflow:5 out of the last 5 calls to <function Model.make_predict_function.<locals>.predict_function at 0x7fad567853b0> triggered tf.function retracing. Tracing is expensive and the excessive number of tracings could be due to (1) creating @tf.function repeatedly in a loop, (2) passing tensors with different shapes, (3) passing Python objects instead of tensors. For (1), please define your @tf.function outside of the loop. For (2), @tf.function has reduce_retracing=True option that can avoid unnecessary retracing. For (3), please refer to https://www.tensorflow.org/guide/function#controlling_retracing and https://www.tensorflow.org/api_docs/python/tf/function for  more details.\n"
          ]
        },
        {
          "output_type": "stream",
          "name": "stdout",
          "text": [
            "1/1 [==============================] - 0s 73ms/step\n"
          ]
        },
        {
          "output_type": "stream",
          "name": "stderr",
          "text": [
            "WARNING:tensorflow:6 out of the last 25 calls to <function Model.make_test_function.<locals>.test_function at 0x7fad5c49d290> triggered tf.function retracing. Tracing is expensive and the excessive number of tracings could be due to (1) creating @tf.function repeatedly in a loop, (2) passing tensors with different shapes, (3) passing Python objects instead of tensors. For (1), please define your @tf.function outside of the loop. For (2), @tf.function has reduce_retracing=True option that can avoid unnecessary retracing. For (3), please refer to https://www.tensorflow.org/guide/function#controlling_retracing and https://www.tensorflow.org/api_docs/python/tf/function for  more details.\n"
          ]
        },
        {
          "output_type": "stream",
          "name": "stdout",
          "text": [
            "1/1 [==============================] - 0s 129ms/step - loss: 8.4318e-07 - accuracy: 1.0000\n"
          ]
        },
        {
          "output_type": "stream",
          "name": "stderr",
          "text": [
            "WARNING:tensorflow:6 out of the last 6 calls to <function Model.make_predict_function.<locals>.predict_function at 0x7fad5670fc20> triggered tf.function retracing. Tracing is expensive and the excessive number of tracings could be due to (1) creating @tf.function repeatedly in a loop, (2) passing tensors with different shapes, (3) passing Python objects instead of tensors. For (1), please define your @tf.function outside of the loop. For (2), @tf.function has reduce_retracing=True option that can avoid unnecessary retracing. For (3), please refer to https://www.tensorflow.org/guide/function#controlling_retracing and https://www.tensorflow.org/api_docs/python/tf/function for  more details.\n"
          ]
        },
        {
          "output_type": "stream",
          "name": "stdout",
          "text": [
            "1/1 [==============================] - 0s 81ms/step\n",
            "1/1 [==============================] - 0s 124ms/step - loss: 8.4318e-07 - accuracy: 1.0000\n"
          ]
        }
      ]
    },
    {
      "cell_type": "markdown",
      "source": [
        "### Metrics calculation:"
      ],
      "metadata": {
        "id": "WTlXYvVGUwX6"
      }
    },
    {
      "cell_type": "code",
      "source": [
        "def pred(X_test):\n",
        "  preds=[]\n",
        "  for e in X_test:\n",
        "    preds.append(classify(e))\n",
        "  return preds"
      ],
      "metadata": {
        "id": "iADgd1vWU0k_"
      },
      "execution_count": null,
      "outputs": []
    },
    {
      "cell_type": "code",
      "source": [
        "df_test.values[0]"
      ],
      "metadata": {
        "id": "OXfAptRGib9-"
      },
      "execution_count": null,
      "outputs": []
    },
    {
      "cell_type": "code",
      "source": [
        "parameters = np.zeros([4,6]) # TP, FP, TN, FN\n",
        "scores = np.zeros([3,6]) # Precision, Recall, F1\n"
      ],
      "metadata": {
        "id": "WR5mSACTaP_o"
      },
      "execution_count": null,
      "outputs": []
    },
    {
      "cell_type": "code",
      "source": [
        "import time\n",
        "\n",
        "answer=df_test['Attack_type']\n",
        "df_test.drop('Attack_type', axis=1, inplace=True)\n",
        "df_test=harmonize(df_test)\n",
        "start_time=time.time()\n",
        "preds=pred([df_test])\n",
        "print(\"Prediction Time in seconds: \", time.time()-start_time)"
      ],
      "metadata": {
        "id": "HRrBPupjYtMq"
      },
      "execution_count": null,
      "outputs": []
    },
    {
      "cell_type": "code",
      "source": [
        "len(preds)"
      ],
      "metadata": {
        "id": "yik3y-FzoNLq"
      },
      "execution_count": null,
      "outputs": []
    },
    {
      "cell_type": "code",
      "source": [
        "answers=answer.tolist()\n",
        "for i in range(6):\n",
        "  for j in range(len(answers)):\n",
        "    if answers[j]==i and preds[j]==i:\n",
        "      parameters[0, i] = parameters[0, i]+1\n",
        "    elif answers[j]==i and preds[j]!=i:\n",
        "      parameters[3, i] =  parameters[3, i]+1\n",
        "    elif answers[j]!=i and preds[j]==i:\n",
        "      parameters[1, i] =  parameters[1, i]+1\n",
        "    elif answers[j]!=i and preds[j]!=i:\n",
        "      parameters[2, i] =  parameters[2, i]+1"
      ],
      "metadata": {
        "id": "l2G8g5aXmg9-"
      },
      "execution_count": null,
      "outputs": []
    },
    {
      "cell_type": "code",
      "source": [
        "for i in range(6):\n",
        "  scores[0,i] = parameters[0,i]/(parameters[0,i]+parameters[1,i])\n",
        "  scores[1,i] = parameters[0,i]/(parameters[0,i]+parameters[3,i])\n",
        "  scores[2,i] = 2*scores[0,i]*scores[1,i]/(scores[0,i]+scores[1,i])"
      ],
      "metadata": {
        "id": "L15yT2mEapaK"
      },
      "execution_count": null,
      "outputs": []
    },
    {
      "cell_type": "code",
      "source": [
        "accuracy_score = (np.sum(scores[0])+np.sum(scores[1]))/(np.sum(scores[0])+np.sum(scores[1])+np.sum(scores[2])+np.sum(scores[3]))\n",
        "precision_score = np.average(scores[0])\n",
        "recall_score = np.average(scores[1])\n",
        "f1_score = np.average(scores[2])\n",
        "print(\"Accuracy score: \", accuracy_score)\n",
        "print(\"Precision score: \", precision_score)\n",
        "print(\"Recall score: \", recall_score)\n",
        "print(\"F1 score: \", f1_score)"
      ],
      "metadata": {
        "id": "QhUgLqjFasMq"
      },
      "execution_count": null,
      "outputs": []
    },
    {
      "cell_type": "markdown",
      "source": [
        "As said previously, this method did not work in this specific case because the autoencoders worked too well. It was expected that an autoencoder trained on a given class will perform poorly on all the others. However, this was not the case, as the models performed very well on all the classes, which made it impossible to implement an efficient classification system. The core principle behind this technique can however be valid in other cases.\n",
        "\n",
        "Usually, in anomaly detection, there are only 2 classes: normal and abnormal, and the abnormal cases are minority. Thus, we build an autoencoder that learns to reconstruct normal data samples. In principle, the model will generally reconstruct new normal cases with a low error rate. However, if the reconstruction loss is above a defined threshold, we consider that the corresponding data point is not from the normal class and is therefore an abnomaly instance.\n",
        "\n",
        "The code in this notebook can be easily adapted for this purpose, if applied to a dataset with 2 classes. Then, only 1 autoencoder model needs to be built."
      ],
      "metadata": {
        "id": "gqHIbMuNxJE0"
      }
    }
  ]
}